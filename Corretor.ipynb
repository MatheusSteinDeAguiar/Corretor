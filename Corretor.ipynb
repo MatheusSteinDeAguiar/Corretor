{
  "nbformat": 4,
  "nbformat_minor": 0,
  "metadata": {
    "colab": {
      "provenance": []
    },
    "kernelspec": {
      "name": "python3",
      "display_name": "Python 3"
    },
    "language_info": {
      "name": "python"
    }
  },
  "cells": [
    {
      "cell_type": "markdown",
      "source": [
        "#Explicação do Projeto\n",
        "O objetivo do projeto é criar um corretor ortográfico que, dada a escrita incorreta de uma palavra, sugira uma palavra correta que se mais se aproxime.\n",
        "\n",
        "#Pré condição:\n",
        "A base de dados ultilizada, artigo, foi tratada para que as imagens contidas no artigo fossem substituídas pela palavra 'imagem', assim como os códigos contidos fossem substituídos pela linguagem em que foram excritos, por exeplo: java, python, etc."
      ],
      "metadata": {
        "id": "-96ArWNmxJpt"
      }
    },
    {
      "cell_type": "markdown",
      "source": [
        "#Preparação de dados"
      ],
      "metadata": {
        "id": "sShPnRC3x_wo"
      }
    },
    {
      "cell_type": "code",
      "source": [
        "#imports\n",
        "import nltk\n",
        "nltk.download('punkt')"
      ],
      "metadata": {
        "colab": {
          "base_uri": "https://localhost:8080/"
        },
        "id": "Gg0TPpbtyLD3",
        "outputId": "ba3b5bf1-dc0c-4f91-ed6b-fd6e210049be"
      },
      "execution_count": null,
      "outputs": [
        {
          "output_type": "stream",
          "name": "stderr",
          "text": [
            "[nltk_data] Downloading package punkt to /root/nltk_data...\n",
            "[nltk_data]   Package punkt is already up-to-date!\n"
          ]
        },
        {
          "output_type": "execute_result",
          "data": {
            "text/plain": [
              "True"
            ]
          },
          "metadata": {},
          "execution_count": 1
        }
      ]
    },
    {
      "cell_type": "code",
      "execution_count": null,
      "metadata": {
        "colab": {
          "base_uri": "https://localhost:8080/"
        },
        "id": "9rsXYElevTrc",
        "outputId": "221058b7-86be-429c-caf5-4020ccb79164"
      },
      "outputs": [
        {
          "output_type": "stream",
          "name": "stdout",
          "text": [
            "\n",
            "\n",
            "\n",
            "imagem \n",
            "\n",
            "Temos a seguinte classe que representa um usuário no nosso sistema:\n",
            "\n",
            "java\n",
            "\n",
            "Para salvar u\n"
          ]
        }
      ],
      "source": [
        "with open(\"artigos.txt\", \"r\") as f:\n",
        "  artigos = f.read()\n",
        "\n",
        "print(artigos[:100])"
      ]
    },
    {
      "cell_type": "code",
      "source": [
        "tokens = nltk.tokenize.word_tokenize(artigos)"
      ],
      "metadata": {
        "id": "mnzR7xmRwBVI"
      },
      "execution_count": null,
      "outputs": []
    },
    {
      "cell_type": "markdown",
      "source": [
        "Essa variável tokens está carregando além das palavras da base de dados, todas as pontuações, então será feito uma filtragem apenas com tokens alfa-numéricos, afim de ficar apenas com as palavras."
      ],
      "metadata": {
        "id": "A8CM_EZz0G-L"
      }
    },
    {
      "cell_type": "code",
      "source": [
        "def separa_e_normaliza_palavras(lista_tokens):\n",
        "    lista_palavras = []\n",
        "    for token in lista_tokens:\n",
        "      if token.isalpha():\n",
        "        lista_palavras.append(token.lower())\n",
        "    return lista_palavras\n",
        "\n",
        "palavras_separadas = separa_e_normaliza_palavras(tokens)\n",
        "print(len(set(palavras_separadas)))"
      ],
      "metadata": {
        "colab": {
          "base_uri": "https://localhost:8080/"
        },
        "id": "PF9z-wvFylrS",
        "outputId": "9ad6e40a-b2ca-4621-f50a-8308c6176740"
      },
      "execution_count": 25,
      "outputs": [
        {
          "output_type": "stream",
          "name": "stdout",
          "text": [
            "18465\n"
          ]
        }
      ]
    },
    {
      "cell_type": "markdown",
      "source": [
        "#Primeiro corretor: Esquece uma letra."
      ],
      "metadata": {
        "id": "_QX0WmWCEydN"
      }
    },
    {
      "cell_type": "markdown",
      "source": [
        "A primeira funcionalidade implementada ao corretor é com o objetivo de corrigir esquecimentos de letras, por exemplo na digitação de \"comptador\" ao invés de \"computador\". Para isso a palavra é divida em 2 partes para cada caso possível dentro da palavra, ou seja:\n",
        "\n",
        "('', 'comptador'), ('c', 'omptador'), ('co', 'mptador'), etc.\n",
        "\n",
        "Tendo essas fatias consideradas partes Esquerda e Direita da palavra, será concatenado essas partes com cada letra do alfabeto, gerando uma lista de palavras sugeridas.\n",
        "Por fim, o corretor irá avaliar qual das palavras sugeridas possui, dentro da base de dados usada, a maior frequência de aparição, sugerindo então que a palavra desejada seja esta."
      ],
      "metadata": {
        "id": "HdXWEOZTY7Iq"
      }
    },
    {
      "cell_type": "code",
      "source": [
        "def insere_letras(fatias):\n",
        "  palavras_sugeridas = []\n",
        "  letras = 'abcdeifghijklmnopqrstuvwxyzáãàâéèêíìîóõòôúùûç-'\n",
        "  for E, D in fatias:\n",
        "    for letra in letras:\n",
        "      palavras_sugeridas.append(E + letra + D)\n",
        "  return palavras_sugeridas"
      ],
      "metadata": {
        "id": "SiQEAABD9fc4"
      },
      "execution_count": null,
      "outputs": []
    },
    {
      "cell_type": "code",
      "source": [
        "def gerador_de_palavras(palavra):\n",
        "  fatias = []\n",
        "\n",
        "  for i in range(len(palavra)+1):\n",
        "    fatias.append((palavra[:i],palavra[i:]))\n",
        "    \n",
        "  palavras_geradas = insere_letras(fatias)\n",
        "  return palavras_geradas"
      ],
      "metadata": {
        "id": "mW45DKWkzmNx"
      },
      "execution_count": null,
      "outputs": []
    },
    {
      "cell_type": "code",
      "source": [
        "frequencia = nltk.FreqDist(palavras_separadas)\n",
        "total_de_palavras = len(palavras_separadas)\n",
        "\n",
        "def probabilidade(palavra_gerada):\n",
        "  return frequencia[palavra_gerada]/total_de_palavras"
      ],
      "metadata": {
        "id": "j0WBN5wlCDga"
      },
      "execution_count": null,
      "outputs": []
    },
    {
      "cell_type": "code",
      "source": [
        "def corretor(palavra):\n",
        "  palavras_geradas = gerador_de_palavras(palavra)\n",
        "  palavra_sugerida = max(palavras_geradas, key=probabilidade)\n",
        "  return palavra_sugerida"
      ],
      "metadata": {
        "id": "RSHYst8XAapR"
      },
      "execution_count": null,
      "outputs": []
    },
    {
      "cell_type": "markdown",
      "source": [
        "#Implementação de um avaliador para as correções."
      ],
      "metadata": {
        "id": "Gy-AW0a6Hl-W"
      }
    },
    {
      "cell_type": "code",
      "source": [
        "def prepara_dados_teste():\n",
        "  lista_palavras_teste = []\n",
        "  f = open(\"palavras.txt\", 'r')\n",
        "\n",
        "  for linha in f:\n",
        "    correta, errada = linha.split()\n",
        "    lista_palavras_teste.append((correta, errada))\n",
        "  f.close()\n",
        "  return lista_palavras_teste\n",
        "\n",
        "def avalia_corretor(dados_teste, vocabulario):\n",
        "  numero_de_palavras = len(dados_teste)\n",
        "  acertos = 0\n",
        "  palavras_desconhecida = 0\n",
        "\n",
        "  for correta, errada in dados_teste:\n",
        "    palavras_desconhecida += (correta not in vocabulario)\n",
        "    if (corretor(errada) == correta):\n",
        "      acertos += 1      \n",
        "\n",
        "  taxa_de_acerto = round(100*acertos/numero_de_palavras, 2)\n",
        "  taxa_de_desconhecidas = round(palavras_desconhecida*100/numero_de_palavras, 2)\n",
        "  print(\"A taxa de acerto foi de: \" + f\"{taxa_de_acerto}\" + \"% e a de palavras desconhecidas foi de: \"\n",
        "  + f\"{taxa_de_desconhecidas}\" + \"%\")"
      ],
      "metadata": {
        "id": "J_kabzaSCArY"
      },
      "execution_count": null,
      "outputs": []
    },
    {
      "cell_type": "code",
      "source": [
        "avalia_corretor(prepara_dados_teste(), set(palavras_separadas))"
      ],
      "metadata": {
        "colab": {
          "base_uri": "https://localhost:8080/"
        },
        "id": "S0ciLNbhDceJ",
        "outputId": "c16b5874-35a5-4a70-96a6-ab2e6bbec7bb"
      },
      "execution_count": null,
      "outputs": [
        {
          "output_type": "stream",
          "name": "stdout",
          "text": [
            "A taxa de acerto foi de: 1.08% e a de palavras desconhecidas foi de: 6.99%\n"
          ]
        }
      ]
    },
    {
      "cell_type": "markdown",
      "source": [
        "Foi implementado então uma função para avaliar a precisão (corretas / total) dos palpites do corretor. Além disso a função retorna quanto das palavras testadas não são conhecidas pela base de testes utilizada.\n",
        "\n",
        "Pelo resultado obtido é possivel perceber que apenas uma pequena parte das palavras foi corrigida com a utilização apenas deste método."
      ],
      "metadata": {
        "id": "ULHZdzezervJ"
      }
    },
    {
      "cell_type": "markdown",
      "source": [
        "#Segundo corretor: Deletando caracteres"
      ],
      "metadata": {
        "id": "e1DKtnfMHre0"
      }
    },
    {
      "cell_type": "markdown",
      "source": [
        "A segunda funcionalidade é a de deletar letras digitadas além da palavra desejada, 'compuitador', por exemplo. Para isso, novamente é feito o fatiamento da palavra e deletada a primeira letra da parte da direita."
      ],
      "metadata": {
        "id": "hTXOshcVk8Nq"
      }
    },
    {
      "cell_type": "code",
      "source": [
        "def deleta_caracteres(fatias):\n",
        "  palavras_sugeridas = []\n",
        "  for E, D in fatias:\n",
        "      palavras_sugeridas.append(E + D[1:])\n",
        "  return palavras_sugeridas"
      ],
      "metadata": {
        "id": "_mm9K3lWG4ii"
      },
      "execution_count": null,
      "outputs": []
    },
    {
      "cell_type": "code",
      "source": [
        "def gerador_de_palavras(palavra):\n",
        "  fatias = []\n",
        "\n",
        "  for i in range(len(palavra)+1):\n",
        "    fatias.append((palavra[:i],palavra[i:]))\n",
        "    \n",
        "  palavras_geradas = insere_letras(fatias)\n",
        "  palavras_geradas += deleta_caracteres(fatias)\n",
        "  return palavras_geradas"
      ],
      "metadata": {
        "id": "zNMP7lnWLDS5"
      },
      "execution_count": null,
      "outputs": []
    },
    {
      "cell_type": "code",
      "source": [
        "avalia_corretor(prepara_dados_teste(), set(palavras_separadas))"
      ],
      "metadata": {
        "colab": {
          "base_uri": "https://localhost:8080/"
        },
        "id": "QJpRj6wZLmmC",
        "outputId": "1d130745-dc9e-4fe0-dfc0-8756f7a53b9a"
      },
      "execution_count": null,
      "outputs": [
        {
          "output_type": "stream",
          "name": "stdout",
          "text": [
            "A taxa de acerto foi de: 41.4% e a de palavras desconhecidas foi de: 6.99%\n"
          ]
        }
      ]
    },
    {
      "cell_type": "markdown",
      "source": [
        "Pode ser observada uma melhora na precisão, de 1% para 41%."
      ],
      "metadata": {
        "id": "ikrtq3O_lgg8"
      }
    },
    {
      "cell_type": "markdown",
      "source": [
        "#Terceiro Corretor: Trocando letras"
      ],
      "metadata": {
        "id": "y1XIToVfL0aA"
      }
    },
    {
      "cell_type": "markdown",
      "source": [
        "Na terceira mudança é implementada uma nova funcionalidade que deleta uma letra e coloca uma nova no lugar, além de uma função que troca duas letras de lugar para cobrir casos como: primeira funcionalidade 'compitador' ou segunda 'copmutador'."
      ],
      "metadata": {
        "id": "7uRAYxqUs6ri"
      }
    },
    {
      "cell_type": "code",
      "source": [
        "def troca_letra(fatias):\n",
        "    novas_palavras = []\n",
        "    letras = 'abcdefghijklmnopqrstuvwxyzáâàãéêèẽíîìĩóôõòúûùũç'\n",
        "    for E, D in fatias:\n",
        "        for letra in letras:\n",
        "            novas_palavras.append(E + letra + D[1:])\n",
        "    return novas_palavras\n",
        "\n",
        "def inverte_letra(fatias):\n",
        "    novas_palavras = []\n",
        "    for E, D in fatias:\n",
        "        if len(D) > 1:\n",
        "            novas_palavras.append(E + D[1] + D[0] + D[2:])\n",
        "    return novas_palavras"
      ],
      "metadata": {
        "id": "pNiZ3WttToYX"
      },
      "execution_count": 30,
      "outputs": []
    },
    {
      "cell_type": "code",
      "source": [
        "def gerador_de_palavras(palavra):\n",
        "  fatias = []\n",
        "\n",
        "  for i in range(len(palavra)+1):\n",
        "    fatias.append((palavra[:i],palavra[i:]))\n",
        "    \n",
        "  palavras_geradas = insere_letras(fatias)\n",
        "  palavras_geradas += deleta_caracteres(fatias)\n",
        "  palavras_geradas += troca_letra(fatias)\n",
        "  palavras_geradas += inverte_letra(fatias)\n",
        "\n",
        "  return palavras_geradas"
      ],
      "metadata": {
        "id": "YiZ_0yNpLpgE"
      },
      "execution_count": 35,
      "outputs": []
    },
    {
      "cell_type": "code",
      "source": [
        "avalia_corretor(prepara_dados_teste(), set(palavras_separadas))"
      ],
      "metadata": {
        "colab": {
          "base_uri": "https://localhost:8080/"
        },
        "id": "d5cg8o-KMvPw",
        "outputId": "f06e0c2d-d16f-42a8-9a73-40ddadb4fc0d"
      },
      "execution_count": 36,
      "outputs": [
        {
          "output_type": "stream",
          "name": "stdout",
          "text": [
            "A taxa de acerto foi de: 76.34% e a de palavras desconhecidas foi de: 6.99%\n"
          ]
        }
      ]
    },
    {
      "cell_type": "markdown",
      "source": [
        "O resultado final encontrado foi este terceiro, com uma precisão de 76.34%, na tentativa de alcançar um modelo melhor algumas modificações não mostradas no resultado final foram implementadas, como por exemplo a reinserção das palavras geradas no corretor (tentando alcançar palavras com 2 letras escritas a mais, ou a menos), mas geraram resultados piores, neste caso porque começa a se distanciar do caso original, e por mais que para alguns casos acerte, na maioria erra palavras que estava já acertando. Isso acontece pelo modo como estamos avaliando a possibilidade de ser aquela palavra ou não (maior frequência na base de dados que utilizamos). Talvez seja justamente neste ponto que precisaria ser feito uma mudança para atingir melhores resultados."
      ],
      "metadata": {
        "id": "MwlwjKLvuv3f"
      }
    }
  ]
}